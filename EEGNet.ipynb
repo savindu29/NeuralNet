{
  "nbformat": 4,
  "nbformat_minor": 0,
  "metadata": {
    "colab": {
      "provenance": [],
      "gpuType": "T4",
      "authorship_tag": "ABX9TyOqc+djjRp++QiupkvNybyJ",
      "include_colab_link": true
    },
    "kernelspec": {
      "name": "python3",
      "display_name": "Python 3"
    },
    "language_info": {
      "name": "python"
    },
    "accelerator": "GPU"
  },
  "cells": [
    {
      "cell_type": "markdown",
      "metadata": {
        "id": "view-in-github",
        "colab_type": "text"
      },
      "source": [
        "<a href=\"https://colab.research.google.com/github/savindu29/NeuralNet/blob/main/EEGNet.ipynb\" target=\"_parent\"><img src=\"https://colab.research.google.com/assets/colab-badge.svg\" alt=\"Open In Colab\"/></a>"
      ]
    },
    {
      "cell_type": "markdown",
      "source": [
        "#Downloading the dataset (BCI Competition IV 2a)"
      ],
      "metadata": {
        "id": "O2q-pBECEF-p"
      }
    },
    {
      "cell_type": "code",
      "execution_count": 2,
      "metadata": {
        "colab": {
          "base_uri": "https://localhost:8080/"
        },
        "id": "1tKcRLp_9YNU",
        "outputId": "b8258429-b116-4f92-8c4c-e059f9a7de43"
      },
      "outputs": [
        {
          "output_type": "stream",
          "name": "stdout",
          "text": [
            "--2025-02-07 11:31:55--  https://www.bbci.de/competition/download/competition_iv/BCICIV_2a_gdf.zip\n",
            "Resolving www.bbci.de (www.bbci.de)... 130.149.80.149\n",
            "Connecting to www.bbci.de (www.bbci.de)|130.149.80.149|:443... connected.\n",
            "HTTP request sent, awaiting response... 200 OK\n",
            "Length: 439968864 (420M) [application/zip]\n",
            "Saving to: ‘BCICIV_2a_gdf.zip’\n",
            "\n",
            "BCICIV_2a_gdf.zip   100%[===================>] 419.59M  10.9MB/s    in 23s     \n",
            "\n",
            "2025-02-07 11:32:19 (17.9 MB/s) - ‘BCICIV_2a_gdf.zip’ saved [439968864/439968864]\n",
            "\n"
          ]
        }
      ],
      "source": [
        "!wget https://www.bbci.de/competition/download/competition_iv/BCICIV_2a_gdf.zip\n",
        ""
      ]
    },
    {
      "cell_type": "code",
      "source": [
        "!mkdir -p /content/cleaned_data/"
      ],
      "metadata": {
        "id": "EKw6kWNgEbE_"
      },
      "execution_count": 3,
      "outputs": []
    },
    {
      "cell_type": "code",
      "source": [
        "%%capture\n",
        "!unzip /content/BCICIV_2a_gdf.zip -d raw_data"
      ],
      "metadata": {
        "id": "8mpuETClEcmR"
      },
      "execution_count": 4,
      "outputs": []
    },
    {
      "cell_type": "markdown",
      "source": [
        "##Install Libraries"
      ],
      "metadata": {
        "id": "iGIVlortEi2i"
      }
    },
    {
      "cell_type": "code",
      "source": [
        "%%capture\n",
        "!pip install mne"
      ],
      "metadata": {
        "id": "pwFQ5qdYEiUh"
      },
      "execution_count": null,
      "outputs": []
    },
    {
      "cell_type": "code",
      "source": [
        "%%capture\n",
        "!pip install torch-summary"
      ],
      "metadata": {
        "id": "5bo-ZOLFEmr0"
      },
      "execution_count": null,
      "outputs": []
    },
    {
      "cell_type": "code",
      "source": [
        "import os\n",
        "import mne\n",
        "import math\n",
        "import copy\n",
        "import gdown\n",
        "import random\n",
        "import scipy.io\n",
        "import numpy as np\n",
        "import pandas as pd\n",
        "import seaborn as sn\n",
        "import matplotlib.pyplot as plt\n",
        "\n",
        "# Torch\n",
        "import torch\n",
        "import torch.nn as nn\n",
        "import torch.optim as optim\n",
        "import torch.nn.functional as F\n",
        "from torchsummary import summary\n",
        "from torch.autograd import Variable\n",
        "from torch.utils.data import DataLoader, TensorDataset, random_split\n",
        "\n",
        "# Scikit-Learn\n",
        "from sklearn.feature_selection import mutual_info_classif\n",
        "from sklearn.metrics import confusion_matrix, accuracy_score\n",
        "from sklearn.model_selection import train_test_split"
      ],
      "metadata": {
        "id": "LAHc8j0TEpt5"
      },
      "execution_count": null,
      "outputs": []
    },
    {
      "cell_type": "markdown",
      "source": [
        "#Organize the dataset"
      ],
      "metadata": {
        "id": "TYefzrqSExE0"
      }
    },
    {
      "cell_type": "code",
      "source": [
        "!mkdir -p /content/cleaned_data/first_session\n",
        "!mkdir -p /content/cleaned_data/second_session"
      ],
      "metadata": {
        "id": "bzOvb7dbEuQ8"
      },
      "execution_count": null,
      "outputs": []
    },
    {
      "cell_type": "markdown",
      "source": [
        "##First Session Data Preprocess"
      ],
      "metadata": {
        "id": "6R21VnbLFA0k"
      }
    },
    {
      "cell_type": "code",
      "source": [
        "raw_data_folder = '/content/raw_data/'\n",
        "cleaned_data_folder = '/content/cleaned_data/first_session/'\n",
        "files = os.listdir(raw_data_folder)\n",
        "\n",
        "# Selecting files with suffix 'T.gdf'\n",
        "filtered_files = [file for file in files if file.endswith('T.gdf')]\n",
        "\n",
        "raw_list = []\n",
        "\n",
        "# Iterating through filtered files\n",
        "for file in filtered_files:\n",
        "    file_path = os.path.join(raw_data_folder, file)\n",
        "\n",
        "    # Reading raw data\n",
        "    raw = mne.io.read_raw_gdf(file_path, eog=['EOG-left', 'EOG-central', 'EOG-right'], preload=True)\n",
        "    # Droping EOG channels\n",
        "    raw.drop_channels(['EOG-left', 'EOG-central', 'EOG-right'])\n",
        "\n",
        "    # High Pass Filtering 4-40 Hz\n",
        "    raw.filter(l_freq=4, h_freq=40, method='iir')\n",
        "\n",
        "    # Notch filter for Removal of Line Voltage\n",
        "    raw.notch_filter(freqs=50)\n",
        "\n",
        "    # Saving the modified raw data to a file with .fif suffix\n",
        "    new_file_path = os.path.join(cleaned_data_folder, file[:-4] + '.fif')\n",
        "    raw.save(new_file_path, overwrite=True)\n",
        "    # Appending data to the list\n",
        "    raw_list.append(raw)\n",
        "\n",
        "final_raw = mne.concatenate_raws(raw_list)\n",
        "new_file_path = os.path.join(cleaned_data_folder, 'First_Session_Subjects.fif')\n",
        "final_raw.save(new_file_path, overwrite=True)"
      ],
      "metadata": {
        "id": "0LCWYZAUE5_a"
      },
      "execution_count": null,
      "outputs": []
    },
    {
      "cell_type": "code",
      "source": [
        "events = mne.events_from_annotations(final_raw)\n",
        "events[1]"
      ],
      "metadata": {
        "id": "wErzhsdxFHAx"
      },
      "execution_count": null,
      "outputs": []
    },
    {
      "cell_type": "markdown",
      "source": [
        "![image.png](data:image/png;base64,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)"
      ],
      "metadata": {
        "id": "cvTWO4YHFZuz"
      }
    },
    {
      "cell_type": "code",
      "source": [
        "epochs = mne.Epochs(final_raw, events[0], event_id=[7, 8, 9, 10], tmin=0, tmax=4, reject=None, baseline=None, preload=True)\n",
        "first_session_data = epochs.get_data(copy=True)\n",
        "first_session_labels = epochs.events[:,-1]"
      ],
      "metadata": {
        "id": "6tXIkscLFI_e"
      },
      "execution_count": null,
      "outputs": []
    },
    {
      "cell_type": "code",
      "source": [
        "print(\"First_session_dataset shape:\",first_session_data.shape)"
      ],
      "metadata": {
        "id": "lh8MeDAcFLPt"
      },
      "execution_count": null,
      "outputs": []
    },
    {
      "cell_type": "markdown",
      "source": [
        "##Second Session Process"
      ],
      "metadata": {
        "id": "nQYMDRheFjGe"
      }
    },
    {
      "cell_type": "code",
      "source": [
        "##Second Session Process"
      ],
      "metadata": {
        "id": "WMEHA96FFgTm"
      },
      "execution_count": null,
      "outputs": []
    },
    {
      "cell_type": "code",
      "source": [
        "# shareable link\n",
        "shareable_link = 'https://drive.google.com/file/d/1LizqO0zGP1Cs9tSgYfQaao6Yngr16-zK/view?usp=drive_link'\n",
        "\n",
        "# Extract file ID from the shareable link\n",
        "file_id = shareable_link.split('/d/')[1].split('/view')[0]\n",
        "\n",
        "# Create the direct download link\n",
        "download_url = f'https://drive.google.com/uc?id={file_id}&export=download'\n",
        "\n",
        "# Specify the output file path\n",
        "output_file = 'true_labels.zip'\n",
        "\n",
        "# Download the file\n",
        "gdown.download(download_url, output_file, quiet=False)"
      ],
      "metadata": {
        "id": "lycmQc94FfoL"
      },
      "execution_count": null,
      "outputs": []
    },
    {
      "cell_type": "code",
      "source": [
        "%%capture\n",
        "!unzip /content/true_labels.zip -d second_session_labels"
      ],
      "metadata": {
        "id": "2v6KHpMbFyrL"
      },
      "execution_count": null,
      "outputs": []
    },
    {
      "cell_type": "code",
      "source": [
        "raw_data_folder = '/content/raw_data/'\n",
        "cleaned_data_folder = '/content/cleaned_data/second_session/'\n",
        "mat_folder = '/content/second_session_labels/'\n",
        "\n",
        "# Selecting files with suffix 'E.mat'\n",
        "mat_files = os.listdir(mat_folder)\n",
        "filtered_math_labels = [file for file in mat_files if file.endswith('E.mat')]\n",
        "\n",
        "# Selecting files with suffix 'E.gdf'\n",
        "files = os.listdir(raw_data_folder)\n",
        "filtered_files = [file for file in files if file.endswith('E.gdf')]\n",
        "\n",
        "raw_list = []\n",
        "second_session_labels = np.array([])\n",
        "# Iterating through filtered files\n",
        "for file in filtered_files:\n",
        "    file_path = os.path.join(raw_data_folder, file)\n",
        "\n",
        "    # Reading raw data\n",
        "    raw = mne.io.read_raw_gdf(file_path, eog=['EOG-left', 'EOG-central', 'EOG-right'], preload=True)\n",
        "    # Droping EOG channels\n",
        "    raw.drop_channels(['EOG-left', 'EOG-central', 'EOG-right'])\n",
        "\n",
        "    # High Pass Filtering 4-40 Hz\n",
        "    raw.filter(l_freq=4, h_freq=40, method='iir')\n",
        "\n",
        "    # Saving the modified raw data to a file with .fif suffix\n",
        "    new_file_path = os.path.join(cleaned_data_folder, file[:-4] + '.fif')\n",
        "    raw.save(new_file_path, overwrite=True)\n",
        "    # Appending data to t he list\n",
        "    raw_list.append(raw)\n",
        "\n",
        "    # Mat files for the labels\n",
        "    mat_file_name = file.replace('.gdf', '.mat')\n",
        "    mat_file_path = os.path.join(mat_folder, mat_file_name)\n",
        "    print(f\"data:{file}, label:{mat_file_name}\")\n",
        "\n",
        "    if os.path.exists(mat_file_path):\n",
        "        mat_data = scipy.io.loadmat(mat_file_path)\n",
        "        class_labels = mat_data.get('classlabel', [])\n",
        "\n",
        "        # Check if 'classlabel' key exists and is not empty\n",
        "        if class_labels.size > 0:\n",
        "             # Convert to a NumPy array and flatten\n",
        "            class_labels_array = np.array(class_labels, dtype=int).flatten()\n",
        "            # Concatenate with the existing test_labels array\n",
        "            second_session_labels = np.concatenate((second_session_labels, class_labels_array))\n",
        "        else:\n",
        "            print(f\"Warning: 'classlabel' not found or empty in {mat_file_name}.\")\n",
        "    else:\n",
        "        print(f\"Warning: {mat_file_name} not found.\")\n",
        "\n",
        "final_raw = mne.concatenate_raws(raw_list)\n",
        "new_file_path = os.path.join(cleaned_data_folder, 'Second_Session_Subjects.fif')\n",
        "final_raw.save(new_file_path, overwrite=True)"
      ],
      "metadata": {
        "id": "pCJGTPD7F7kH"
      },
      "execution_count": null,
      "outputs": []
    },
    {
      "cell_type": "code",
      "source": [
        "events = mne.events_from_annotations(final_raw)\n",
        "events[1]"
      ],
      "metadata": {
        "id": "kzImTSmAGBp-"
      },
      "execution_count": null,
      "outputs": []
    },
    {
      "cell_type": "code",
      "source": [
        "epochs = mne.Epochs(final_raw, events[0], event_id=7, tmin=0, tmax=4, reject=None, baseline=None, preload=None)\n",
        "second_session_data = epochs.get_data(copy=True)"
      ],
      "metadata": {
        "id": "C8I0IjuPGD82"
      },
      "execution_count": null,
      "outputs": []
    },
    {
      "cell_type": "code",
      "source": [
        "print(\"Second Session Dataset shape:\",second_session_data.shape)"
      ],
      "metadata": {
        "id": "rraR68XWGFpR"
      },
      "execution_count": null,
      "outputs": []
    },
    {
      "cell_type": "markdown",
      "source": [
        "#Structuring the Date"
      ],
      "metadata": {
        "id": "G7N-PulwGGKt"
      }
    },
    {
      "cell_type": "code",
      "source": [
        "# Choosing Device\n",
        "device = torch.device(\"cuda\" if torch.cuda.is_available() else \"cpu\")\n",
        "\n",
        "# Loss Function\n",
        "criterion = nn.CrossEntropyLoss()\n",
        "\n",
        "# Normalizing Labels to [0, 1, 2, 3]\n",
        "y_train = first_session_labels - np.min(first_session_labels)\n",
        "y_test = second_session_labels - np.min(second_session_labels)\n",
        "\n",
        "# Normalizing Input features: z-score(mean=0, std=1)\n",
        "X_first_session = (first_session_data - np.mean(first_session_data)) / np.std(first_session_data)\n",
        "X_second_session = (second_session_data - np.mean(second_session_data)) / np.std(second_session_data)\n",
        "\n",
        "X = np.concatenate((X_first_session, X_second_session))\n",
        "y = np.concatenate((y_train, y_test))\n",
        "\n",
        "# Spliting  Data: 90% for Train and 10% for Test\n",
        "X_train, X_test, y_train, y_test = train_test_split(X, y, test_size=0.1, random_state=42, stratify=y)\n",
        "\n",
        "# Converting to Tensor\n",
        "X_train = torch.Tensor(X_train).unsqueeze(1).to(device)\n",
        "X_test = torch.Tensor(X_test).unsqueeze(1).to(device)\n",
        "y_train = torch.LongTensor(y_train).to(device)\n",
        "y_test = torch.LongTensor(y_test).to(device)\n",
        "\n",
        "# Creating Tensor Dataset\n",
        "train_dataset = TensorDataset(X_train, y_train)\n",
        "test_dataset = TensorDataset(X_test, y_test)\n",
        "\n",
        "# Printing the sizes\n",
        "print(\"Size of X_train:\", X_train.size())\n",
        "print(\"Size of X_test:\", X_test.size())\n",
        "print(\"Size of y_train:\", y_train.size())\n",
        "print(\"Size of y_test:\", y_test.size())"
      ],
      "metadata": {
        "id": "cemammSjGKdp"
      },
      "execution_count": null,
      "outputs": []
    },
    {
      "cell_type": "markdown",
      "source": [
        "#Model training class"
      ],
      "metadata": {
        "id": "1HTFo1QnGRqV"
      }
    },
    {
      "cell_type": "code",
      "source": [
        "class TrainModel():\n",
        "    def __init__(self,):\n",
        "        self.device = torch.device(\"cuda\" if torch.cuda.is_available() else \"cpu\")\n",
        "\n",
        "    def train_model(self, model, train_dataset, learning_rate=0.001, batch_size=64, epochs=500):\n",
        "        model = model.to(self.device)\n",
        "        criterion = nn.CrossEntropyLoss()\n",
        "        optimizer = optim.Adam(model.parameters(), lr=learning_rate)\n",
        "        train_loader = DataLoader(train_dataset, batch_size=batch_size, shuffle=True)\n",
        "        highest_train_accuracy = 0.0\n",
        "\n",
        "        for epoch in range(epochs):\n",
        "            model.train()\n",
        "            running_loss = 0.0\n",
        "            correct = 0\n",
        "            total = 0\n",
        "            for inputs, labels in train_loader:\n",
        "                inputs = inputs.to(self.device)\n",
        "                labels = labels.to(self.device)\n",
        "\n",
        "                optimizer.zero_grad()\n",
        "                outputs = model(inputs)\n",
        "                loss = criterion(outputs, labels)\n",
        "                loss.backward()\n",
        "                optimizer.step()\n",
        "\n",
        "                running_loss += loss.item() * inputs.size(0)\n",
        "                _, predicted = torch.max(outputs, 1)\n",
        "                total += labels.size(0)\n",
        "                correct += (predicted == labels).sum().item()\n",
        "\n",
        "            epoch_loss = running_loss / len(train_loader.dataset)\n",
        "            epoch_accuracy = correct / total\n",
        "            if epoch_accuracy > highest_train_accuracy:\n",
        "                highest_train_accuracy = epoch_accuracy\n",
        "            print(f\"Epoch {epoch+1}/{epochs}, Loss: {epoch_loss:.4f}, Accuracy: {(epoch_accuracy*100):.2f}%\")\n",
        "\n",
        "        average_loss = running_loss / len(train_loader.dataset)\n",
        "        print(\"Average Loss:\", average_loss)\n",
        "        print(\"Highest Train Accuracy:\", highest_train_accuracy)\n",
        "\n",
        "        # Saving model\n",
        "        torch.save(model.state_dict(), 'eegnet_model.pth')\n",
        "        return model"
      ],
      "metadata": {
        "id": "5l3t4zzdGTBy"
      },
      "execution_count": null,
      "outputs": []
    },
    {
      "cell_type": "markdown",
      "source": [
        "#Model Evaluation class"
      ],
      "metadata": {
        "id": "ivr0oEywGVgm"
      }
    },
    {
      "cell_type": "code",
      "source": [
        "class EvalModel():\n",
        "    def __init__(self, model):\n",
        "        self.model = model.to(device)\n",
        "        self.device = torch.device(\"cuda\" if torch.cuda.is_available() else \"cpu\")\n",
        "    def test_model(self, test_dataset):\n",
        "        self.model.eval()\n",
        "        correct = 0\n",
        "        total = 0\n",
        "        test_loader = DataLoader(test_dataset, batch_size=1, shuffle=False)\n",
        "\n",
        "        with torch.no_grad():\n",
        "            for inputs, labels in test_loader:\n",
        "                inputs = inputs.to(self.device)\n",
        "                labels = labels.to(self.device)\n",
        "                outputs = self.model(inputs)\n",
        "                _, predicted = torch.max(outputs.data, 1)\n",
        "                total += labels.size(0)\n",
        "                correct += (predicted == labels).sum().item()\n",
        "\n",
        "        accuracy = (correct / total) * 100\n",
        "        print(\"/------------------------------/\")\n",
        "        print(f\"Test Accuracy: {accuracy:.2f}%\")\n",
        "        print(\"/------------------------------/\")\n",
        "        return accuracy\n",
        "\n",
        "    def plot_confusion_matrix(self, test_dataset, classes):\n",
        "        self.model.eval()\n",
        "        y_pred = []\n",
        "        y_true = []\n",
        "        test_loader = DataLoader(test_dataset, batch_size=1, shuffle=False)\n",
        "\n",
        "        with torch.no_grad():\n",
        "            for inputs, labels in test_loader:\n",
        "                inputs = inputs.to(self.device)\n",
        "                labels = labels.to(self.device)\n",
        "                outputs = self.model(inputs)\n",
        "                _, predicted = torch.max(outputs.data, 1)\n",
        "                y_pred.append(predicted.item())\n",
        "                y_true.append(labels.item())\n",
        "\n",
        "        cf_matrix = confusion_matrix(y_true, y_pred)\n",
        "        cf_matrix = cf_matrix.astype('float') / cf_matrix.sum(axis=1)[:, np.newaxis]\n",
        "\n",
        "        df_cm = pd.DataFrame(cf_matrix, index=classes, columns=classes)\n",
        "\n",
        "        plt.figure(figsize=(10, 7))\n",
        "        sn.heatmap(df_cm, annot=True, cmap='Blues', fmt='.2f')\n",
        "        plt.xlabel('Predicted labels')\n",
        "        plt.ylabel('True labels')\n",
        "        plt.title('Confusion Matrix')\n",
        "        plt.savefig('confusion_matrix_model.png')\n",
        "        plt.show()"
      ],
      "metadata": {
        "id": "PL77vjYAGVCh"
      },
      "execution_count": null,
      "outputs": []
    },
    {
      "cell_type": "markdown",
      "source": [
        "#EEGNet Model"
      ],
      "metadata": {
        "id": "GsdombcbGaZ_"
      }
    },
    {
      "cell_type": "code",
      "source": [
        "\n",
        "class EEGNetModel(nn.Module): # EEGNET-8,2\n",
        "    def __init__(self, chans=22, classes=4, time_points=1001, temp_kernel=32,\n",
        "                 f1=16, f2=32, d=2, pk1=8, pk2=16, dropout_rate=0.5, max_norm1=1, max_norm2=0.25):\n",
        "        super(EEGNetModel, self).__init__()\n",
        "        # Calculating FC input features\n",
        "        linear_size = (time_points//(pk1*pk2))*f2\n",
        "\n",
        "        # Temporal Filters\n",
        "        self.block1 = nn.Sequential(\n",
        "            nn.Conv2d(1, f1, (1, temp_kernel), padding='same', bias=False),\n",
        "            nn.BatchNorm2d(f1),\n",
        "        )\n",
        "        # Spatial Filters\n",
        "        self.block2 = nn.Sequential(\n",
        "            nn.Conv2d(f1, d * f1, (chans, 1), groups=f1, bias=False), # Depthwise Conv\n",
        "            nn.BatchNorm2d(d * f1),\n",
        "            nn.ELU(),\n",
        "            nn.AvgPool2d((1, pk1)),\n",
        "            nn.Dropout(dropout_rate)\n",
        "        )\n",
        "        self.block3 = nn.Sequential(\n",
        "            nn.Conv2d(d * f1, f2, (1, 16),  groups=f2, bias=False, padding='same'), # Separable Conv\n",
        "            nn.Conv2d(f2, f2, kernel_size=1, bias=False), # Pointwise Conv\n",
        "            nn.BatchNorm2d(f2),\n",
        "            nn.ELU(),\n",
        "            nn.AvgPool2d((1, pk2)),\n",
        "            nn.Dropout(dropout_rate)\n",
        "        )\n",
        "        self.flatten = nn.Flatten()\n",
        "        self.fc = nn.Linear(linear_size, classes)\n",
        "\n",
        "        # Apply max_norm constraint to the depthwise layer in block2\n",
        "        self._apply_max_norm(self.block2[0], max_norm1)\n",
        "\n",
        "        # Apply max_norm constraint to the linear layer\n",
        "        self._apply_max_norm(self.fc, max_norm2)\n",
        "\n",
        "    def _apply_max_norm(self, layer, max_norm):\n",
        "        for name, param in layer.named_parameters():\n",
        "            if 'weight' in name:\n",
        "                param.data = torch.renorm(param.data, p=2, dim=0, maxnorm=max_norm)\n",
        "\n",
        "    def forward(self, x):\n",
        "        x = self.block1(x)\n",
        "        x = self.block2(x)\n",
        "        x = self.block3(x)\n",
        "        x = self.flatten(x)\n",
        "        x = self.fc(x)\n",
        "        return x"
      ],
      "metadata": {
        "id": "VOpx8fB7Gbvi"
      },
      "execution_count": null,
      "outputs": []
    },
    {
      "cell_type": "markdown",
      "source": [
        "##Summary"
      ],
      "metadata": {
        "id": "xiQkLrdWGe5a"
      }
    },
    {
      "cell_type": "code",
      "source": [
        "input_size = (1, 22, 1001)\n",
        "eegnet_model = EEGNetModel().to(device)\n",
        "summary(eegnet_model, input_size)"
      ],
      "metadata": {
        "id": "VolTS9P3Gg4M"
      },
      "execution_count": null,
      "outputs": []
    },
    {
      "cell_type": "markdown",
      "source": [
        "#Model Training"
      ],
      "metadata": {
        "id": "5u5K13EDGkY2"
      }
    },
    {
      "cell_type": "code",
      "source": [
        "eegnet_model = EEGNetModel().to(device)\n",
        "\n",
        "# Training Hyperparameters\n",
        "EPOCHS = 500\n",
        "BATCH_SIZE = 64\n",
        "LEARNING_RATE = 0.001\n",
        "trainer = TrainModel()\n",
        "trained_eegnet_model = trainer.train_model(eegnet_model, train_dataset, learning_rate=LEARNING_RATE,\n",
        "                                   batch_size=BATCH_SIZE, epochs=EPOCHS)\n",
        "torch.save(trained_eegnet_model.state_dict(), 'eegnet_model.pth')\n"
      ],
      "metadata": {
        "id": "VClAT0UWGlZk"
      },
      "execution_count": null,
      "outputs": []
    },
    {
      "cell_type": "markdown",
      "source": [
        "#Evaluating Model"
      ],
      "metadata": {
        "id": "dsNFayIxGqfc"
      }
    },
    {
      "cell_type": "code",
      "source": [
        "classes_list = ['Left', 'Right', 'Foot', 'Tongue']\n",
        "eval_model = EvalModel(trained_eegnet_model)\n",
        "test_accuracy = eval_model.test_model(test_dataset)\n",
        "eval_model.plot_confusion_matrix(test_dataset, classes_list)"
      ],
      "metadata": {
        "id": "MZsGMJf1GrzH"
      },
      "execution_count": null,
      "outputs": []
    }
  ]
}